{
 "cells": [
  {
   "cell_type": "markdown",
   "metadata": {},
   "source": [
    "# __Romagna Coastline's Beach Reservations__"
   ]
  },
  {
   "cell_type": "markdown",
   "metadata": {},
   "source": [
    "### The database is composed by 7 tables:\n",
    "1. Customer \n",
    "2. Booking\n",
    "3. PartOf\n",
    "4. Beach\n",
    "5. Boat \n",
    "6. Restaurant \n",
    "7. SpecialOffer\n",
    "\n",
    "### With the following schema:"
   ]
  },
  {
   "cell_type": "markdown",
   "metadata": {},
   "source": [
    "<img src=\"Schema.png\"/>"
   ]
  },
  {
   "cell_type": "markdown",
   "metadata": {},
   "source": [
    "#### The goal for this project is to answer 3 business goals:\n",
    "1) Increase Customer Engagement and Satisfaction\n",
    "2) Enhance Customer Retention Through Personalized Beach Experiences\n",
    "3) Enhance Booking Revenue and Offer Customization"
   ]
  },
  {
   "cell_type": "markdown",
   "metadata": {},
   "source": [
    "***"
   ]
  },
  {
   "cell_type": "markdown",
   "metadata": {},
   "source": [
    "## Business Goal 1: Increase Customer Engagement and Satisfaction\n",
    "\n",
    "#### Let's start by identifying top 5 rated beaches:"
   ]
  },
  {
   "cell_type": "code",
   "execution_count": null,
   "metadata": {
    "vscode": {
     "languageId": "sql"
    }
   },
   "outputs": [],
   "source": [
    "SELECT name, rating\n",
    "FROM beaches.beach\n",
    "ORDER BY rating DESC\n",
    "LIMIT 5;"
   ]
  },
  {
   "cell_type": "markdown",
   "metadata": {},
   "source": [
    "| name              | rating |\n",
    "| -------           | ------- |\n",
    "| Sabbia Tranquilla | 4.98   |\n",
    "| Baia Verde        | 4.98   |\n",
    "| Brezza Gialla     | 4.98   |\n",
    "| Bellezza Gialla   | 4.94   |\n",
    "| Marina Verde      | 4.94   |\n",
    "\n",
    "#### Now let's find out which customers frequently rent boats:"
   ]
  },
  {
   "cell_type": "code",
   "execution_count": null,
   "metadata": {
    "vscode": {
     "languageId": "sql"
    }
   },
   "outputs": [],
   "source": [
    "SELECT customerID, COUNT(*) as BoatRentals\n",
    "FROM beaches.partof p\n",
    "JOIN beaches.booking b\n",
    "ON p.bookingID = b.id\n",
    "WHERE boat IS NOT NULL\n",
    "GROUP BY customerID\n",
    "ORDER BY BoatRentals DESC\n",
    "LIMIT 10;"
   ]
  },
  {
   "cell_type": "markdown",
   "metadata": {},
   "source": [
    "| customerID | BoatRentals |\n",
    "| ---------- | ----------- |\n",
    "|MNDGMR88C65D542Z|\t6|\n",
    "|CHRPRZ01H02G942Y|\t6|\n",
    "|FRRMRN01L55F205O|\t6|\n",
    "|FRRCLD74D21A952E|\t5|\n",
    "|TRVLFA94T44A783T|\t5|\n",
    "|BGGLND56L55E715B|\t5|\n",
    "|CHRMGH77T21I480Q|\t5|\n",
    "|PCCSLL02B65L781X|\t5|\n",
    "|GCCMRA85H70A952S|\t5|\n",
    "|DPRNNN99P01D122P|\t5|\n",
    "\n",
    "#### We are able now to make promotions for the company's top-rated rated beaches to attract customers and increase engagement and satisfaction.\n",
    "#### At the same time we have which are our top-frequent customers thus we can make special promotions to them increasing satisfaction and loyalty.\n",
    "\n",
    "### __Now we create a view out of our repetead customers so we can use it in future analysis:__"
   ]
  },
  {
   "cell_type": "code",
   "execution_count": null,
   "metadata": {
    "vscode": {
     "languageId": "sql"
    }
   },
   "outputs": [],
   "source": [
    "CREATE VIEW repetedcustomers AS\n",
    "SELECT p.customerID AS customerID, COUNT(*) AS BoatRentals\n",
    "FROM partof p\n",
    "JOIN booking b \n",
    "ON p.bookingID = b.id\n",
    "WHERE b.boat IS NOT NULL\n",
    "GROUP BY p.customerID\n",
    "ORDER BY BoatRentals DESC"
   ]
  },
  {
   "cell_type": "markdown",
   "metadata": {},
   "source": [
    "***"
   ]
  },
  {
   "cell_type": "markdown",
   "metadata": {},
   "source": [
    "## Business Goal 2:  Enhance Customer Retention Through Personalized Beach Experiences\n",
    "\n",
    "#### To start, we are going to search for boats with highest rentals by the top-frequent customers, in this case customers that have rented boats more than 4 times."
   ]
  },
  {
   "cell_type": "code",
   "execution_count": null,
   "metadata": {
    "vscode": {
     "languageId": "sql"
    }
   },
   "outputs": [],
   "source": [
    "SELECT boat, COUNT(*) as RentalsPerBoat\n",
    "FROM booking b\n",
    "JOIN partof p\n",
    "ON b.id = p.bookingID\n",
    "JOIN repetedcustomers r\n",
    "ON r.customerID = p.customerID\n",
    "WHERE r.customerID IN (SELECT customerID FROM repetedcustomers WHERE BoatRentals > 4\n",
    " AND boat IS NOT NULL)\n",
    "GROUP BY boat\n",
    "ORDER BY RentalsPerBoat DESC\n",
    "LIMIT 10;"
   ]
  },
  {
   "cell_type": "markdown",
   "metadata": {},
   "source": [
    "\n",
    "|boat\t| RentalsPerBoat|\n",
    "| ------ | ------------ |\n",
    "|Fiotto 8\t|5|\n",
    "|Poseidone 17\t|5|\n",
    "|Flutto 7\t|4|\n",
    "|Nettuno 7\t|4|\n",
    "|Flutto 3\t|4|\n",
    "|Nettuno 13\t|4|\n",
    "|Calipso 9\t|3|\n",
    "|Flutto 11\t|3|\n",
    "|Nettuno 18\t|3|\n",
    "|Cavallone 7\t|3|\n",
    "\n",
    "#### Now let's find the top 15 rentals per boat for all the bookings:"
   ]
  },
  {
   "cell_type": "code",
   "execution_count": null,
   "metadata": {
    "vscode": {
     "languageId": "sql"
    }
   },
   "outputs": [],
   "source": [
    "SELECT boat, count(*) as rents\n",
    "FROM beaches.booking\n",
    "WHERE boat IS NOT NULL\n",
    "GROUP BY boat\n",
    "ORDER BY rents DESC\n",
    "LIMIT 15;"
   ]
  },
  {
   "cell_type": "markdown",
   "metadata": {},
   "source": [
    "\n",
    "|boat\t|rents|\n",
    "| ----- | ----|\n",
    "|Onda 15\t|16|\n",
    "|Onda 13\t|15|\n",
    "|Onda 8\t|14|\n",
    "|Onda 4\t|14|\n",
    "|Onda 6\t|14|\n",
    "|Flutto 3\t|14|\n",
    "|Nettuno 13\t|12|\n",
    "|Poseidone 6\t|12|\n",
    "|Poseidone 10\t|12|\n",
    "|Onda 14\t|12|\n",
    "|Nettuno 8\t|12|\n",
    "|Nettuno 5\t|12|\n",
    "|Poseidone 13\t|12|\n",
    "|Poseidone 1\t|12|\n",
    "|Cavallone 14\t|12|\n",
    "\n",
    "#### We can see that, with the exception of Flutto 3 and Nettuno 13, we don't see much rentals for the favorite boats of out top-customers. \n",
    "#### Thanks to this analysis, we can create special and personalized offers to out top rated customers based on low rented boats that they tend to rent. Thus retaining their loyalty and profiting from low rented boats."
   ]
  },
  {
   "cell_type": "markdown",
   "metadata": {},
   "source": [
    "***"
   ]
  },
  {
   "cell_type": "markdown",
   "metadata": {},
   "source": [
    "## Business Goal 3: Enhance Booking Revenue and Offer Customization\n",
    "\n",
    "#### First we are going to analyze price trends for bookings with and without boats:"
   ]
  },
  {
   "cell_type": "code",
   "execution_count": null,
   "metadata": {
    "vscode": {
     "languageId": "sql"
    }
   },
   "outputs": [],
   "source": [
    "SELECT AVG(price) AS AveragePriceWithBoat, (SELECT AVG(price) FROM booking WHERE boat IS NULL) AS AveragePriceWithoutBoat\n",
    "FROM booking\n",
    "WHERE boat IS NOT NULL;"
   ]
  },
  {
   "cell_type": "markdown",
   "metadata": {},
   "source": [
    "|AveragePriceWithBoat|AveragePriceWithoutBoat|\n",
    "|--------------------|-----------------------|\n",
    "|647.3884156729131| 646.9672606713634 |\n",
    "\n",
    "#### Now let's find the most popular special offers for marketing focus:"
   ]
  },
  {
   "cell_type": "code",
   "execution_count": null,
   "metadata": {
    "vscode": {
     "languageId": "sql"
    }
   },
   "outputs": [],
   "source": [
    "SELECT beach.name, COUNT(specialoffer.PromoCode) AS NumberOfSpecialOffersUsed\n",
    "FROM specialoffer\n",
    "JOIN beach ON specialoffer.beach = beach.Name\n",
    "GROUP BY beach.name\n",
    "ORDER BY NumberOfSpecialOffersUsed DESC\n",
    "LIMIT 10;"
   ]
  },
  {
   "cell_type": "markdown",
   "metadata": {},
   "source": [
    "\n",
    "|name\t| NumberOfSpecialOffersUsed|\n",
    "|-------|----------------|\n",
    "|Brezza Grigia\t| 60 |\n",
    "|Brezza Incantevole\t| 54 |\n",
    "|Brezza Verde\t| 53 |\n",
    "|Alba Grigia\t| 47|\n",
    "|Brezza Bella\t| 41|\n",
    "|Brezza Rossa\t| 41|\n",
    "|Conchiglia Rilassante\t| 41|\n",
    "|Sabbia Bella\t| 40|\n",
    "|Conchiglia Incantevole\t| 39|\n",
    "|Paletta Meravigliosa\t| 38|\n",
    "\n",
    "#### We now have the top 10 beaches that had more special offer bookings. This helps us to understand which offers are more popular and now we can focus on marketing efforts that work best so we can increase bookings and revenue.\n",
    "\n",
    "#### We see that the addition of the boat to the booking does no affect the overall price. We can suggest that the addition of a boat to package deals, could improve the satisfaction of the clients by them perciving the package as a more high-value one without having the burden of paying a higher price for it."
   ]
  }
 ],
 "metadata": {
  "kernelspec": {
   "display_name": "Python 3",
   "language": "python",
   "name": "python3"
  },
  "language_info": {
   "codemirror_mode": {
    "name": "ipython",
    "version": 3
   },
   "file_extension": ".py",
   "mimetype": "text/x-python",
   "name": "python",
   "nbconvert_exporter": "python",
   "pygments_lexer": "ipython3",
   "version": "3.9.6"
  },
  "orig_nbformat": 4
 },
 "nbformat": 4,
 "nbformat_minor": 2
}
